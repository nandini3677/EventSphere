import mysql.connector
from getpass import getpass

# Connect to MySQL database
conn = mysql.connector.connect(
    host="localhost",   # your MySQL host
    user="root",        # your MySQL username
    password="lokesh@123#",  # your MySQL password
    database="event_managment"   # database name
)

cursor = conn.cursor()

# Register function
def register():
    username = input("Enter username: ")
    password = getpass("Enter password: ")

    try:
        cursor.execute("INSERT INTO usersdb (username, password) VALUES (%s, %s)", (username, password))
        conn.commit()
        print("✅ Registration successful!")
    except mysql.connector.IntegrityError:
        print("⚠️ Username already exists!")

# Login function
def login():
    username = input("Enter username: ")
    password = getpass("Enter password: ")

    cursor.execute("SELECT * FROM users WHERE username=%s AND password=%s", (username, password))
    row = cursor.fetchone()

    if row:
        print(f"✅ Welcome {username}!")
    else:
        print("❌ Invalid username or password")

# Menu
while True:
    print("\n1. Register\n2. Login\n3. Exit")
    choice = input("Choose option: ")

    if choice == "1":
        register()
    elif choice == "2":
        login()
    elif choice == "3":
        break
    else:
        print("Invalid choice!")
