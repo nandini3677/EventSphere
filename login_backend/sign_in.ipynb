{
 "cells": [
  {
   "cell_type": "code",
   "execution_count": null,
   "id": "faadb457",
   "metadata": {},
   "outputs": [],
   "source": []
  },
  {
   "cell_type": "code",
   "execution_count": null,
   "id": "9a1ee168",
   "metadata": {},
   "outputs": [],
   "source": [
    "import mysql.connector\n",
    "from getpass import getpass\n",
    "\n",
    "# Connect to MySQL database\n",
    "conn = mysql.connector.connect(\n",
    "    host=\"localhost\",   # your MySQL host\n",
    "    user=\"root\",        # your MySQL username\n",
    "    password=\"lokesh@123#\",  # your MySQL password\n",
    "    database=\"eventdb`\"   # database name\n",
    ")\n",
    "\n",
    "cursor = conn.cursor()\n",
    "\n",
    "# Register function\n",
    "def register():\n",
    "    username = input(\"Enter username: \")\n",
    "    password = getpass(\"Enter password: \")\n",
    "\n",
    "    try:\n",
    "        cursor.execute(\"INSERT INTO usersdb (username, password) VALUES (%s, %s)\", (username, password))\n",
    "        conn.commit()\n",
    "        print(\"✅ Registration successful!\")\n",
    "    except mysql.connector.IntegrityError:\n",
    "        print(\"⚠️ Username already exists!\")\n",
    "\n",
    "# Login function\n",
    "def login():\n",
    "    username = input(\"Enter username: \")\n",
    "    password = getpass(\"Enter password: \")\n",
    "\n",
    "    cursor.execute(\"SELECT * FROM users WHERE username=%s AND password=%s\", (username, password))\n",
    "    row = cursor.fetchone()\n",
    "\n",
    "    if row:\n",
    "        print(f\"✅ Welcome {username}!\")\n",
    "    else:\n",
    "        print(\"❌ Invalid username or password\")\n",
    "\n",
    "# Menu\n",
    "while True:\n",
    "    print(\"\\n1. Register\\n2. Login\\n3. Exit\")\n",
    "    choice = input(\"Choose option: \")\n",
    "\n",
    "    if choice == \"1\":\n",
    "        register()\n",
    "    elif choice == \"2\":\n",
    "        login()\n",
    "    elif choice == \"3\":\n",
    "        break\n",
    "    else:\n",
    "        print(\"Invalid choice!\")\n"
   ]
  }
 ],
 "metadata": {
  "kernelspec": {
   "display_name": "Python 3",
   "language": "python",
   "name": "python3"
  },
  "language_info": {
   "name": "python",
   "version": "3.13.1"
  }
 },
 "nbformat": 4,
 "nbformat_minor": 5
}
